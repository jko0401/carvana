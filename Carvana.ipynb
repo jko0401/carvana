{
 "cells": [
  {
   "cell_type": "markdown",
   "id": "naval-african",
   "metadata": {},
   "source": [
    "# Scrape Carvana\n",
    "\n",
    "* You only need to fetch a single page of vehicle results. e.g., go to https://www.carvana.com/cars and click [Next] page -- Notice it refreshes the inventory without refreshing the page.\n",
    "\n",
    "* Create a simple MySQL schema for storing these records and include the necessary create table(s) SQL. We are interested in the following fields: vehicle_id, vin, make, model, mileage, price\n",
    "\n",
    "* How would you extend this to fetch all the vehicle inventory? (Code is not necessary)"
   ]
  },
  {
   "cell_type": "code",
   "execution_count": 52,
   "id": "1cda8943-df2f-41f1-930d-080e161f12d7",
   "metadata": {},
   "outputs": [],
   "source": [
    "# function fetch_carvana_inventory_by_page(int $page_id) : array {\n",
    "#     // Fetch a single page of vehicles\n",
    "#     // return an array of vehicle records\n",
    "#     return [];\n",
    "# }\n",
    "# \n",
    "# function save_carvana_inventory(array $vehicle) : bool {\n",
    "#     // Persist a single vehicle record to the database\n",
    "#     // Return a boolean indicating success or failure\n",
    "#     return true;\n",
    "# }\n",
    "# \n",
    "# foreach (fetch_carvana_inventory_by_page(2) as $vehicle) {\n",
    "#     save_carvana_inventory($vehicle);\n",
    "# }\n",
    "# "
   ]
  },
  {
   "cell_type": "markdown",
   "id": "a6fb94cf-c0c2-4e96-ac5c-59f1a69c9c9a",
   "metadata": {},
   "source": [
    "### Load imports"
   ]
  },
  {
   "cell_type": "code",
   "execution_count": 70,
   "id": "little-landscape",
   "metadata": {},
   "outputs": [],
   "source": [
    "from bs4 import BeautifulSoup\n",
    "import requests\n",
    "import json\n",
    "import mysql.connector"
   ]
  },
  {
   "cell_type": "markdown",
   "id": "26c06ab0-d4f9-4be0-bba4-5f6260bfa979",
   "metadata": {},
   "source": [
    "### Scrape a singular car webpage"
   ]
  },
  {
   "cell_type": "code",
   "execution_count": 54,
   "id": "4edb540b-d0f8-4de7-bdc0-1cdb0c2ec5bd",
   "metadata": {},
   "outputs": [],
   "source": [
    "webpage = requests.get(\"https://www.carvana.com/cars\")"
   ]
  },
  {
   "cell_type": "code",
   "execution_count": 55,
   "id": "88f470af-d982-43cb-8dea-515b54de20d3",
   "metadata": {},
   "outputs": [],
   "source": [
    "soup = BeautifulSoup(webpage.text, \"html.parser\")"
   ]
  },
  {
   "cell_type": "code",
   "execution_count": 56,
   "id": "6c557139-80d4-4391-8118-1e14dc6bac6a",
   "metadata": {
    "tags": []
   },
   "outputs": [],
   "source": [
    "car_script_tags = soup.find_all(\"script\", {\"data-react-helmet\": True})"
   ]
  },
  {
   "cell_type": "code",
   "execution_count": 57,
   "id": "29344b5e-fe43-4fe1-b167-d3eb2fcb03e9",
   "metadata": {},
   "outputs": [
    {
     "data": {
      "text/plain": [
       "22"
      ]
     },
     "execution_count": 57,
     "metadata": {},
     "output_type": "execute_result"
    }
   ],
   "source": [
    "len(car_script_tags)"
   ]
  },
  {
   "cell_type": "code",
   "execution_count": 58,
   "id": "ee8872b8-95d6-47b5-b4dd-c73b65ad4309",
   "metadata": {},
   "outputs": [],
   "source": [
    "car_jsons = [json.loads(car_script_tags[0].contents[0]) for car_script in car_script_tags]"
   ]
  },
  {
   "cell_type": "code",
   "execution_count": 59,
   "id": "cf51a20b-8edd-447e-8c86-96276b4ffb53",
   "metadata": {},
   "outputs": [
    {
     "data": {
      "text/plain": [
       "{'@context': 'http://schema.org',\n",
       " '@type': 'Vehicle',\n",
       " 'itemCondition': 'Used',\n",
       " 'name': '2020 Buick Encore GX',\n",
       " 'modelDate': '2020',\n",
       " 'manufacturer': 'Buick',\n",
       " 'model': 'Encore GX',\n",
       " 'color': 'Gray',\n",
       " 'image': '//cdnblob.fastly.carvana.io/2001026852/post-large/normalized/zoomcrop/2001026852-edc-02.jpg',\n",
       " 'brand': 'Buick',\n",
       " 'description': 'Used 2020 Buick Encore GX undefined with 273 miles - $26990',\n",
       " 'mileageFromOdometer': '273',\n",
       " 'sku': '2001026852',\n",
       " 'vehicleIdentificationNumber': 'KL4MMBS27LB101541',\n",
       " 'offers': {'@type': 'Offer',\n",
       "  'price': '26990',\n",
       "  'priceCurrency': 'USD',\n",
       "  'availability': 'http://schema.org/InStock',\n",
       "  'priceValidUntil': 'January 1, 2030',\n",
       "  'url': 'https://www.carvana.com/vehicle/1809150'}}"
      ]
     },
     "execution_count": 59,
     "metadata": {},
     "output_type": "execute_result"
    }
   ],
   "source": [
    "car_jsons[0]"
   ]
  },
  {
   "cell_type": "markdown",
   "id": "6ca550ed-2668-43e1-bbca-a90753f015e0",
   "metadata": {},
   "source": [
    "### Connect to Database\n",
    "We assume that prior to running this python code we have ran the sql script to create the database and insert the table we want to use.\n",
    "\n",
    "The script can be run via mysql. Install mysql and login with 'mysql -uroot' and run 'source carvana.sql' assuming the script is in the same dir you were in when logging into mysql."
   ]
  },
  {
   "cell_type": "code",
   "execution_count": 60,
   "id": "6ccd5909-1eff-4c34-a705-da678a2a3b78",
   "metadata": {},
   "outputs": [],
   "source": [
    "my_db = mysql.connector.connect(\n",
    "    user='root',\n",
    "    host='localhost',\n",
    "    database='carvana',\n",
    "    buffered=True,\n",
    ")\n",
    "cursor = my_db.cursor()"
   ]
  },
  {
   "cell_type": "markdown",
   "id": "d9ad0f7b-5808-4da6-a871-8332b558ad0c",
   "metadata": {},
   "source": [
    "### Load a single page of cars into the database"
   ]
  },
  {
   "cell_type": "code",
   "execution_count": 61,
   "id": "05b7d079-6182-48df-bc52-2f51e56d434c",
   "metadata": {},
   "outputs": [],
   "source": [
    "car = car_jsons[0]"
   ]
  },
  {
   "cell_type": "code",
   "execution_count": 62,
   "id": "12a82229-f073-42c2-bb71-a14922e624fb",
   "metadata": {},
   "outputs": [
    {
     "name": "stdout",
     "output_type": "stream",
     "text": [
      "INSERT INTO `cars` (`id`,`vehicle_id`,`vin`,`make`,`model`,`mileage`,`price`) VALUES (1,2001026852,'KL4MMBS27LB101541','Buick','Encore GX',273,26990)\n"
     ]
    }
   ],
   "source": [
    "add_car = \"\"\"INSERT INTO `cars` (`id`,`vehicle_id`,`vin`,`make`,`model`,`mileage`,`price`) VALUES ({},{},'{}','{}','{}',{},{})\"\"\".format(\n",
    "    1,\n",
    "    car['sku'],\n",
    "    car['vehicleIdentificationNumber'],\n",
    "    car['manufacturer'],\n",
    "    car['model'],\n",
    "    car['mileageFromOdometer'],\n",
    "    car['offers']['price']\n",
    ")\n",
    "\n",
    "print(add_car)"
   ]
  },
  {
   "cell_type": "code",
   "execution_count": 63,
   "id": "e5c71e47-b88b-4933-ae38-406b3d8b60d6",
   "metadata": {},
   "outputs": [],
   "source": [
    "cursor.execute(add_car)"
   ]
  },
  {
   "cell_type": "code",
   "execution_count": 64,
   "id": "82959a84-c70b-4f15-81e1-b5d670d5039d",
   "metadata": {},
   "outputs": [
    {
     "data": {
      "text/plain": [
       "True"
      ]
     },
     "execution_count": 64,
     "metadata": {},
     "output_type": "execute_result"
    }
   ],
   "source": [
    "# save results\n",
    "my_db.commit()\n",
    "cursor.close()"
   ]
  },
  {
   "cell_type": "markdown",
   "id": "0a8afd19-11cd-4820-b424-282247faadfd",
   "metadata": {},
   "source": [
    "## Put the above into requested functions"
   ]
  },
  {
   "cell_type": "code",
   "execution_count": 65,
   "id": "17c58b5b-dcd9-440d-a975-a3e3177817f6",
   "metadata": {},
   "outputs": [],
   "source": [
    "#Fetch a single page of vehicles\n",
    "#return an array of vehicle records\n",
    "def fetch_carvana_inventory_by_page(page):\n",
    "    webpage = requests.get(\"https://www.carvana.com/cars?email-capture=&page={}\".format(page))\n",
    "    soup = BeautifulSoup(webpage.text, \"html.parser\")\n",
    "    car_script_tags = soup.find_all(\"script\", {\"data-react-helmet\": True})\n",
    "    car_jsons = [json.loads(car_script.contents[0]) for car_script in car_script_tags]\n",
    "    return car_jsons"
   ]
  },
  {
   "cell_type": "code",
   "execution_count": 66,
   "id": "bac71feb-c4fc-4a8e-a9fb-220ff1cb152a",
   "metadata": {},
   "outputs": [],
   "source": [
    "# Persist a single vehicle record to the database\n",
    "# Return a boolean indicating success or failure\n",
    "def save_carvana_inventory(vehicle):\n",
    "    add_vehicle = \"\"\"INSERT INTO `cars` (`vehicle_id`,`vin`,`make`,`model`,`mileage`,`price`) VALUES ({},'{}','{}','{}',{},{})\"\"\".format(\n",
    "        vehicle['sku'],\n",
    "        vehicle['vehicleIdentificationNumber'],\n",
    "        vehicle['manufacturer'],\n",
    "        vehicle['model'],\n",
    "        vehicle['mileageFromOdometer'],\n",
    "        vehicle['offers']['price']\n",
    "    )\n",
    "    cursor.execute(add_vehicle)\n",
    "    return my_db.commit()"
   ]
  },
  {
   "cell_type": "code",
   "execution_count": 67,
   "id": "6e78fd20-5fc2-49da-8662-20db618916f8",
   "metadata": {},
   "outputs": [],
   "source": [
    "# Loops through and saves all cars for each page\n",
    "def gen_results(page_to_stop_on):\n",
    "    page_count = 1\n",
    "    while page_count <= page_to_stop_on:\n",
    "        try:\n",
    "            for vehicle in fetch_carvana_inventory_by_page(page_count):\n",
    "                save_carvana_inventory(vehicle)\n",
    "        except Exception as e:\n",
    "            print(\"Can't get anymore pages.\\n{}\".format(e))\n",
    "            break\n",
    "        page_count += 1"
   ]
  },
  {
   "cell_type": "code",
   "execution_count": 76,
   "id": "b0dce093-70fc-440e-90b0-26298e679c16",
   "metadata": {
    "tags": []
   },
   "outputs": [],
   "source": [
    "# Connect to local mysql instance\n",
    "my_db = mysql.connector.connect(\n",
    "    user='root',\n",
    "    host='localhost',\n",
    "    database='carvana',\n",
    "    buffered=True,\n",
    ")\n",
    "cursor = my_db.cursor()"
   ]
  },
  {
   "cell_type": "code",
   "execution_count": 82,
   "id": "14e8045f-15cb-4ddf-9887-85b30e3e8b18",
   "metadata": {},
   "outputs": [],
   "source": [
    "# Get 5 pages worth of results\n",
    "gen_results(5)"
   ]
  },
  {
   "cell_type": "markdown",
   "id": "f9f4d4cb-df7d-492a-a59d-525d6f20604a",
   "metadata": {},
   "source": [
    "### Query the data in the db to examine it"
   ]
  },
  {
   "cell_type": "code",
   "execution_count": 107,
   "id": "1694c4db-ff9e-455d-9cd2-8e9207ddd72a",
   "metadata": {
    "tags": []
   },
   "outputs": [],
   "source": [
    "# get all rows in db\n",
    "cursor.execute(\"select * from cars limit 15\")"
   ]
  },
  {
   "cell_type": "code",
   "execution_count": 108,
   "id": "8c661044-1f7d-4d0b-8ee2-e04b397a3dd5",
   "metadata": {},
   "outputs": [
    {
     "name": "stdout",
     "output_type": "stream",
     "text": [
      "(1, 2000928806, 'JHMGE8H49AC024561', 'Honda', 'Fit', 47133, 12990)\n",
      "(2, 2001026698, '3C3CFFBR0FT642759', 'FIAT', '500', 41832, 14990)\n",
      "(3, 2001017278, '3VWC57BUXKM273998', 'Volkswagen', 'Jetta', 10902, 19590)\n",
      "(4, 2001037287, '3N1AB7AP5KY360606', 'Nissan', 'Sentra', 11966, 19990)\n",
      "(5, 2001032052, '3KPF34AD7ME361345', 'Kia', 'Forte', 54545, 23990)\n",
      "(6, 2001032126, 'JM1NDAC75G0106088', 'Mazda', 'MX-5 Miata', 11756, 27990)\n",
      "(7, 2000937490, '1LN6L9SK1H5618149', 'Lincoln', 'Continental', 54545, 28990)\n",
      "(8, 2001030852, 'JF1VA1A62L9824938', 'Subaru', 'WRX', 8427, 31990)\n",
      "(9, 2001026340, '19UDE2F36KA013897', 'Acura', 'ILX', 7771, 26590)\n",
      "(10, 2001023474, '1FM5K7D88EGB79195', 'Ford', 'Explorer', 60612, 22590)\n",
      "(11, 2001030703, 'KMHC75LH5JU023920', 'Hyundai', 'Ioniq Electric', 40410, 20590)\n",
      "(12, 2001019415, '5UXWZ7C38H0V87475', 'BMW', 'X3', 36156, 28590)\n",
      "(13, 2001019465, 'JTHBA1D20H5059067', 'Lexus', 'IS', 30378, 29990)\n",
      "(14, 2001028699, '3GNCJLSB0JL243586', 'Chevrolet', 'Trax', 14185, 19990)\n",
      "(15, 2000956989, 'WVWKR7AU9KW908326', 'Volkswagen', 'e-Golf', 12226, 20990)\n"
     ]
    }
   ],
   "source": [
    "for result in cursor:\n",
    "    print(result)"
   ]
  },
  {
   "cell_type": "code",
   "execution_count": null,
   "id": "8c95272c-f5d3-4ee9-9ddb-47d687d79bcf",
   "metadata": {},
   "outputs": [],
   "source": []
  }
 ],
 "metadata": {
  "kernelspec": {
   "display_name": "Python 3",
   "language": "python",
   "name": "python3"
  },
  "language_info": {
   "codemirror_mode": {
    "name": "ipython",
    "version": 3
   },
   "file_extension": ".py",
   "mimetype": "text/x-python",
   "name": "python",
   "nbconvert_exporter": "python",
   "pygments_lexer": "ipython3",
   "version": "3.8.2"
  }
 },
 "nbformat": 4,
 "nbformat_minor": 5
}
