{
 "cells": [
  {
   "cell_type": "markdown",
   "id": "naval-african",
   "metadata": {},
   "source": [
    "# Scrape Carvana\n",
    "\n",
    "* You only need to fetch a single page of vehicle results. e.g., go to https://www.carvana.com/cars and click [Next] page -- Notice it refreshes the inventory without refreshing the page.\n",
    "\n",
    "* Create a simple MySQL schema for storing these records and include the necessary create table(s) SQL. We are interested in the following fields: vehicle_id, vin, make, model, mileage, price\n",
    "\n",
    "* How would you extend this to fetch all the vehicle inventory? (Code is not necessary)"
   ]
  },
  {
   "cell_type": "code",
   "execution_count": 52,
   "id": "1cda8943-df2f-41f1-930d-080e161f12d7",
   "metadata": {},
   "outputs": [],
   "source": [
    "# function fetch_carvana_inventory_by_page(int $page_id) : array {\n",
    "#     // Fetch a single page of vehicles\n",
    "#     // return an array of vehicle records\n",
    "#     return [];\n",
    "# }\n",
    "# \n",
    "# function save_carvana_inventory(array $vehicle) : bool {\n",
    "#     // Persist a single vehicle record to the database\n",
    "#     // Return a boolean indicating success or failure\n",
    "#     return true;\n",
    "# }\n",
    "# \n",
    "# foreach (fetch_carvana_inventory_by_page(2) as $vehicle) {\n",
    "#     save_carvana_inventory($vehicle);\n",
    "# }\n",
    "# "
   ]
  },
  {
   "cell_type": "markdown",
   "id": "a6fb94cf-c0c2-4e96-ac5c-59f1a69c9c9a",
   "metadata": {},
   "source": [
    "### Load imports"
   ]
  },
  {
   "cell_type": "code",
   "execution_count": 70,
   "id": "little-landscape",
   "metadata": {},
   "outputs": [],
   "source": [
    "from bs4 import BeautifulSoup\n",
    "import requests\n",
    "import json\n",
    "import mysql.connector"
   ]
  },
  {
   "cell_type": "markdown",
   "id": "26c06ab0-d4f9-4be0-bba4-5f6260bfa979",
   "metadata": {},
   "source": [
    "### Scrape a singular car webpage"
   ]
  },
  {
   "cell_type": "code",
   "execution_count": 54,
   "id": "4edb540b-d0f8-4de7-bdc0-1cdb0c2ec5bd",
   "metadata": {},
   "outputs": [],
   "source": [
    "webpage = requests.get(\"https://www.carvana.com/cars\")"
   ]
  },
  {
   "cell_type": "code",
   "execution_count": 55,
   "id": "88f470af-d982-43cb-8dea-515b54de20d3",
   "metadata": {},
   "outputs": [],
   "source": [
    "soup = BeautifulSoup(webpage.text, \"html.parser\")"
   ]
  },
  {
   "cell_type": "code",
   "execution_count": 56,
   "id": "6c557139-80d4-4391-8118-1e14dc6bac6a",
   "metadata": {
    "tags": []
   },
   "outputs": [],
   "source": [
    "car_script_tags = soup.find_all(\"script\", {\"data-react-helmet\": True})"
   ]
  },
  {
   "cell_type": "code",
   "execution_count": 57,
   "id": "29344b5e-fe43-4fe1-b167-d3eb2fcb03e9",
   "metadata": {},
   "outputs": [
    {
     "data": {
      "text/plain": [
       "22"
      ]
     },
     "execution_count": 57,
     "metadata": {},
     "output_type": "execute_result"
    }
   ],
   "source": [
    "len(car_script_tags)"
   ]
  },
  {
   "cell_type": "code",
   "execution_count": 58,
   "id": "ee8872b8-95d6-47b5-b4dd-c73b65ad4309",
   "metadata": {},
   "outputs": [],
   "source": [
    "car_jsons = [json.loads(car_script_tags[0].contents[0]) for car_script in car_script_tags]"
   ]
  },
  {
   "cell_type": "code",
   "execution_count": 59,
   "id": "cf51a20b-8edd-447e-8c86-96276b4ffb53",
   "metadata": {},
   "outputs": [
    {
     "data": {
      "text/plain": [
       "{'@context': 'http://schema.org',\n",
       " '@type': 'Vehicle',\n",
       " 'itemCondition': 'Used',\n",
       " 'name': '2020 Buick Encore GX',\n",
       " 'modelDate': '2020',\n",
       " 'manufacturer': 'Buick',\n",
       " 'model': 'Encore GX',\n",
       " 'color': 'Gray',\n",
       " 'image': '//cdnblob.fastly.carvana.io/2001026852/post-large/normalized/zoomcrop/2001026852-edc-02.jpg',\n",
       " 'brand': 'Buick',\n",
       " 'description': 'Used 2020 Buick Encore GX undefined with 273 miles - $26990',\n",
       " 'mileageFromOdometer': '273',\n",
       " 'sku': '2001026852',\n",
       " 'vehicleIdentificationNumber': 'KL4MMBS27LB101541',\n",
       " 'offers': {'@type': 'Offer',\n",
       "  'price': '26990',\n",
       "  'priceCurrency': 'USD',\n",
       "  'availability': 'http://schema.org/InStock',\n",
       "  'priceValidUntil': 'January 1, 2030',\n",
       "  'url': 'https://www.carvana.com/vehicle/1809150'}}"
      ]
     },
     "execution_count": 59,
     "metadata": {},
     "output_type": "execute_result"
    }
   ],
   "source": [
    "car_jsons[0]"
   ]
  },
  {
   "cell_type": "markdown",
   "id": "6ca550ed-2668-43e1-bbca-a90753f015e0",
   "metadata": {},
   "source": [
    "### Connect to Database\n",
    "We assume that prior to running this python code we have ran the sql script to create the database and insert the table we want to use.\n",
    "\n",
    "The script can be run via mysql. Install mysql and login with 'mysql -uroot' and run 'source carvana.sql' assuming the script is in the same dir you were in when logging into mysql."
   ]
  },
  {
   "cell_type": "code",
   "execution_count": 60,
   "id": "6ccd5909-1eff-4c34-a705-da678a2a3b78",
   "metadata": {},
   "outputs": [],
   "source": [
    "my_db = mysql.connector.connect(\n",
    "    user='root',\n",
    "    host='localhost',\n",
    "    database='carvana',\n",
    "    buffered=True,\n",
    ")\n",
    "cursor = my_db.cursor()"
   ]
  },
  {
   "cell_type": "markdown",
   "id": "d9ad0f7b-5808-4da6-a871-8332b558ad0c",
   "metadata": {},
   "source": [
    "### Load a single page of cars into the database"
   ]
  },
  {
   "cell_type": "code",
   "execution_count": 61,
   "id": "05b7d079-6182-48df-bc52-2f51e56d434c",
   "metadata": {},
   "outputs": [],
   "source": [
    "car = car_jsons[0]"
   ]
  },
  {
   "cell_type": "code",
   "execution_count": 62,
   "id": "12a82229-f073-42c2-bb71-a14922e624fb",
   "metadata": {},
   "outputs": [
    {
     "name": "stdout",
     "output_type": "stream",
     "text": [
      "INSERT INTO `cars` (`id`,`vehicle_id`,`vin`,`make`,`model`,`mileage`,`price`) VALUES (1,2001026852,'KL4MMBS27LB101541','Buick','Encore GX',273,26990)\n"
     ]
    }
   ],
   "source": [
    "add_car = \"\"\"INSERT INTO `cars` (`id`,`vehicle_id`,`vin`,`make`,`model`,`mileage`,`price`) VALUES ({},{},'{}','{}','{}',{},{})\"\"\".format(\n",
    "    1,\n",
    "    car['sku'],\n",
    "    car['vehicleIdentificationNumber'],\n",
    "    car['manufacturer'],\n",
    "    car['model'],\n",
    "    car['mileageFromOdometer'],\n",
    "    car['offers']['price']\n",
    ")\n",
    "\n",
    "print(add_car)"
   ]
  },
  {
   "cell_type": "code",
   "execution_count": 63,
   "id": "e5c71e47-b88b-4933-ae38-406b3d8b60d6",
   "metadata": {},
   "outputs": [],
   "source": [
    "cursor.execute(add_car)"
   ]
  },
  {
   "cell_type": "code",
   "execution_count": 64,
   "id": "82959a84-c70b-4f15-81e1-b5d670d5039d",
   "metadata": {},
   "outputs": [
    {
     "data": {
      "text/plain": [
       "True"
      ]
     },
     "execution_count": 64,
     "metadata": {},
     "output_type": "execute_result"
    }
   ],
   "source": [
    "# save results\n",
    "my_db.commit()\n",
    "cursor.close()"
   ]
  },
  {
   "cell_type": "markdown",
   "id": "0a8afd19-11cd-4820-b424-282247faadfd",
   "metadata": {},
   "source": [
    "## Put the above into requested functions"
   ]
  },
  {
   "cell_type": "code",
   "execution_count": 65,
   "id": "17c58b5b-dcd9-440d-a975-a3e3177817f6",
   "metadata": {},
   "outputs": [],
   "source": [
    "#Fetch a single page of vehicles\n",
    "#return an array of vehicle records\n",
    "def fetch_carvana_inventory_by_page(page):\n",
    "    webpage = requests.get(\"https://www.carvana.com/cars?email-capture=&page={}\".format(page))\n",
    "    soup = BeautifulSoup(webpage.text, \"html.parser\")\n",
    "    car_script_tags = soup.find_all(\"script\", {\"data-react-helmet\": True})\n",
    "    car_jsons = [json.loads(car_script.contents[0]) for car_script in car_script_tags]\n",
    "    return car_jsons"
   ]
  },
  {
   "cell_type": "code",
   "execution_count": 66,
   "id": "bac71feb-c4fc-4a8e-a9fb-220ff1cb152a",
   "metadata": {},
   "outputs": [],
   "source": [
    "# Persist a single vehicle record to the database\n",
    "# Return a boolean indicating success or failure\n",
    "def save_carvana_inventory(vehicle):\n",
    "    add_vehicle = \"\"\"INSERT INTO `cars` (`vehicle_id`,`vin`,`make`,`model`,`mileage`,`price`) VALUES ({},'{}','{}','{}',{},{})\"\"\".format(\n",
    "        vehicle['sku'],\n",
    "        vehicle['vehicleIdentificationNumber'],\n",
    "        vehicle['manufacturer'],\n",
    "        vehicle['model'],\n",
    "        vehicle['mileageFromOdometer'],\n",
    "        vehicle['offers']['price']\n",
    "    )\n",
    "    cursor.execute(add_vehicle)\n",
    "    return my_db.commit()"
   ]
  },
  {
   "cell_type": "code",
   "execution_count": 67,
   "id": "6e78fd20-5fc2-49da-8662-20db618916f8",
   "metadata": {},
   "outputs": [],
   "source": [
    "# Loops through and saves all cars for each page\n",
    "def gen_results(page_to_stop_on):\n",
    "    page_count = 1\n",
    "    while page_count <= page_to_stop_on:\n",
    "        try:\n",
    "            for vehicle in fetch_carvana_inventory_by_page(page_count):\n",
    "                save_carvana_inventory(vehicle)\n",
    "        except Exception as e:\n",
    "            print(\"Can't get anymore pages.\\n{}\".format(e))\n",
    "            break\n",
    "        page_count += 1"
   ]
  },
  {
   "cell_type": "code",
   "execution_count": 68,
   "id": "b0dce093-70fc-440e-90b0-26298e679c16",
   "metadata": {
    "tags": []
   },
   "outputs": [],
   "source": [
    "# Connect to local mysql instance\n",
    "my_db = mysql.connector.connect(\n",
    "    user='root',\n",
    "    host='localhost',\n",
    "    database='carvana',\n",
    "    buffered=True,\n",
    ")\n",
    "cursor = my_db.cursor()\n",
    "\n",
    "# Get 5 pages worth of results\n",
    "gen_results(5)\n",
    "\n"
   ]
  },
  {
   "cell_type": "code",
   "execution_count": 73,
   "id": "1694c4db-ff9e-455d-9cd2-8e9207ddd72a",
   "metadata": {},
   "outputs": [
    {
     "ename": "ModuleNotFoundError",
     "evalue": "No module named 'pandas'",
     "output_type": "error",
     "traceback": [
      "\u001b[0;31m---------------------------------------------------------------------------\u001b[0m",
      "\u001b[0;31mModuleNotFoundError\u001b[0m                       Traceback (most recent call last)",
      "\u001b[0;32m<ipython-input-73-9bf39654c6dd>\u001b[0m in \u001b[0;36m<module>\u001b[0;34m\u001b[0m\n\u001b[1;32m      1\u001b[0m \u001b[0;32mimport\u001b[0m \u001b[0mcsv\u001b[0m\u001b[0;34m\u001b[0m\u001b[0;34m\u001b[0m\u001b[0m\n\u001b[0;32m----> 2\u001b[0;31m \u001b[0;32mimport\u001b[0m \u001b[0mpandas\u001b[0m\u001b[0;34m\u001b[0m\u001b[0;34m\u001b[0m\u001b[0m\n\u001b[0m\u001b[1;32m      3\u001b[0m \u001b[0;34m\u001b[0m\u001b[0m\n\u001b[1;32m      4\u001b[0m \u001b[0mcursor\u001b[0m\u001b[0;34m.\u001b[0m\u001b[0mexecute\u001b[0m\u001b[0;34m(\u001b[0m\u001b[0;34m\"select * from cars\"\u001b[0m\u001b[0;34m)\u001b[0m\u001b[0;34m\u001b[0m\u001b[0;34m\u001b[0m\u001b[0m\n\u001b[1;32m      5\u001b[0m \u001b[0;34m\u001b[0m\u001b[0m\n",
      "\u001b[0;31mModuleNotFoundError\u001b[0m: No module named 'pandas'"
     ]
    }
   ],
   "source": [
    "import csv\n",
    "import pandas\n",
    "\n",
    "cursor.execute(\"select * from cars\")\n",
    "\n",
    "# Generate a csv file dump of results\n",
    "with open(\"results.csv\", 'w', newline='', encoding='utf-8') as csvfile:\n",
    "    word_writer = csv.writer(csvfile, delimiter=' ', quotechar='|', quoting=csv.QUOTE_MINIMAL)\n",
    "    for row in cursor:\n",
    "        word_writer.writerow(row[0].split(\" \"))    \n",
    "        \n",
    "        \n",
    "# Load results into pandas\n",
    "# Close connection to database when we're done\n",
    "# my_db.close()"
   ]
  },
  {
   "cell_type": "code",
   "execution_count": null,
   "id": "f2cd2d86-5556-4def-99b3-a9f1203ab253",
   "metadata": {},
   "outputs": [],
   "source": []
  }
 ],
 "metadata": {
  "kernelspec": {
   "display_name": "Python 3",
   "language": "python",
   "name": "python3"
  },
  "language_info": {
   "codemirror_mode": {
    "name": "ipython",
    "version": 3
   },
   "file_extension": ".py",
   "mimetype": "text/x-python",
   "name": "python",
   "nbconvert_exporter": "python",
   "pygments_lexer": "ipython3",
   "version": "3.8.2"
  }
 },
 "nbformat": 4,
 "nbformat_minor": 5
}
