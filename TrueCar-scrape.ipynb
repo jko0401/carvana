{
 "cells": [
  {
   "cell_type": "code",
   "execution_count": 116,
   "id": "dd47643b",
   "metadata": {},
   "outputs": [],
   "source": [
    "import requests\n",
    "from bs4 import BeautifulSoup\n",
    "import pandas as pd\n",
    "import re"
   ]
  },
  {
   "cell_type": "code",
   "execution_count": 139,
   "id": "c7986a15",
   "metadata": {},
   "outputs": [],
   "source": [
    "def getPage(make, model, page):\n",
    "    webpage = \"https://www.truecar.com/used-cars-for-sale/listings/{}/{}/location-brooklyn-ny/?page={}&searchRadius=25\".format(make, model, page)\n",
    "    page = BeautifulSoup(requests.get(webpage).content, \"html.parser\")    \n",
    "    table = page.find_all('li',class_=\"margin-top-3 d-flex flex-grow col-md-6 col-xl-4\")\n",
    "    return table"
   ]
  },
  {
   "cell_type": "code",
   "execution_count": 144,
   "id": "14a68ac0",
   "metadata": {},
   "outputs": [],
   "source": [
    "def searchTrueCar(make, model, page):\n",
    "    car_dict = {'id':[], 'year':[], 'make':[], 'model':[], 'trim':[], 'price':[], \n",
    "                'rating':[], 'diff':[], 'mileage':[], 'excolor':[], 'intcolor':[], \n",
    "                'accidents':[], 'owners':[], 'use':[]}\n",
    "    for i in range(1, page):\n",
    "        print('page: ', i)\n",
    "        results = getPage(make, model, i)\n",
    "        for car in results:\n",
    "            try:\n",
    "                id_ = re.search(\"(?<=(listing\\/))(.*?)(?=(\\/2))\", car.find('a', class_=\"linkable order-2 vehicle-card-overlay\", href=True)['href']).group()\n",
    "                car_dict['id'].append(id_)\n",
    "            except AttributeError:\n",
    "                print('Out of Listings.')\n",
    "                break\n",
    "\n",
    "            year = car.find('span', class_=\"vehicle-card-year font-size-1\").text\n",
    "            car_dict['year'].append(year)\n",
    "\n",
    "            makemodel = car.find('span', class_=\"vehicle-header-make-model text-truncate\").text.split(' ')\n",
    "            car_dict['make'].append(makemodel[0])\n",
    "            car_dict['model'].append(makemodel[1])\n",
    "\n",
    "            trim = car.find_all('div', class_=\"font-size-1 text-truncate\")[0].text\n",
    "            car_dict['trim'].append(trim)\n",
    "            \n",
    "            try:\n",
    "                price = car.find('div', class_=\"heading-3 margin-y-1 font-weight-bold\").text\n",
    "                car_dict['price'].append(float(re.sub(r'[^\\d.]', '', price)))\n",
    "            except AttributeError:\n",
    "                car_dict['price'].append('None')\n",
    "            \n",
    "            try:\n",
    "                rating = car.find('span', class_=\"graph-icon-title margin-left-1 vehicle-card-price-rating-label text-truncate font-weight-bold\").text\n",
    "                car_dict['rating'].append(rating)\n",
    "            except AttributeError:\n",
    "                car_dict['rating'].append('None')\n",
    "                \n",
    "            try:    \n",
    "                diff = car.find_all('div', class_=\"font-size-1 text-truncate\")[1].text\n",
    "                car_dict['diff'].append(diff)\n",
    "            except AttributeError:\n",
    "                car_dict['diff'].append('None')\n",
    "            \n",
    "            try:\n",
    "                mileage = car.find_all('div', class_=\"font-size-1 text-truncate\")[2].text\n",
    "                car_dict['mileage'].append(float(re.sub(r'[^\\d.]', '', mileage)))\n",
    "            except IndexError:\n",
    "                mileage = car.find_all('div', class_=\"font-size-1 text-truncate\")[1].text\n",
    "                print(mileage)\n",
    "                car_dict['mileage'].append(float(re.sub(r'[^\\d.]', '', mileage)))\n",
    "\n",
    "            color = car.find('div', class_=\"vehicle-card-location font-size-1 margin-top-1 text-truncate\").text.split(', ')\n",
    "            car_dict['excolor'].append(color[0].split(' ')[0])\n",
    "            car_dict['intcolor'].append(color[1].split(' ')[0])\n",
    "\n",
    "            history = car.find_all('div', class_=\"vehicle-card-location font-size-1 margin-top-1\")[1].text.split(', ')\n",
    "            car_dict['accidents'].append(history[0].split(' ')[0])\n",
    "            car_dict['owners'].append(history[1].split(' ')[0])\n",
    "            car_dict['use'].append(history[2].split(' ')[0])\n",
    "                    \n",
    "    return car_dict"
   ]
  },
  {
   "cell_type": "code",
   "execution_count": 145,
   "id": "46d43917",
   "metadata": {},
   "outputs": [
    {
     "name": "stdout",
     "output_type": "stream",
     "text": [
      "page:  1\n",
      "page:  2\n",
      "page:  3\n",
      "page:  4\n",
      "page:  5\n",
      "page:  6\n",
      "30,768 miles\n",
      "page:  7\n",
      "31,419 miles\n",
      "page:  8\n",
      "page:  9\n"
     ]
    }
   ],
   "source": [
    "corolla = searchTrueCar('toyota', 'corolla', 10)"
   ]
  },
  {
   "cell_type": "code",
   "execution_count": 146,
   "id": "c0d92449",
   "metadata": {},
   "outputs": [
    {
     "name": "stdout",
     "output_type": "stream",
     "text": [
      "page:  1\n",
      "page:  2\n",
      "page:  3\n",
      "page:  4\n",
      "page:  5\n",
      "page:  6\n",
      "page:  7\n",
      "page:  8\n",
      "page:  9\n",
      "342,650 miles\n"
     ]
    }
   ],
   "source": [
    "civic = searchTrueCar('honda', 'civic', 10)"
   ]
  },
  {
   "cell_type": "code",
   "execution_count": 147,
   "id": "e7468c4d",
   "metadata": {},
   "outputs": [
    {
     "name": "stdout",
     "output_type": "stream",
     "text": [
      "page:  1\n",
      "page:  2\n",
      "85,359 miles\n",
      "page:  3\n",
      "page:  4\n",
      "page:  5\n",
      "page:  6\n",
      "page:  7\n",
      "page:  8\n",
      "page:  9\n"
     ]
    }
   ],
   "source": [
    "rio = searchTrueCar('kia', 'rio', 10)"
   ]
  },
  {
   "cell_type": "code",
   "execution_count": 148,
   "id": "f4699a65",
   "metadata": {},
   "outputs": [
    {
     "name": "stdout",
     "output_type": "stream",
     "text": [
      "page:  1\n",
      "page:  2\n",
      "page:  3\n",
      "71,000 miles\n",
      "83,775 miles\n",
      "page:  4\n",
      "page:  5\n",
      "page:  6\n",
      "page:  7\n",
      "page:  8\n",
      "page:  9\n"
     ]
    }
   ],
   "source": [
    "accent = searchTrueCar('hyundai', 'accent', 10)"
   ]
  },
  {
   "cell_type": "code",
   "execution_count": 149,
   "id": "91941a56",
   "metadata": {},
   "outputs": [
    {
     "name": "stdout",
     "output_type": "stream",
     "text": [
      "page:  1\n",
      "page:  2\n",
      "page:  3\n",
      "126,106 miles\n",
      "page:  4\n",
      "page:  5\n",
      "page:  6\n",
      "page:  7\n",
      "page:  8\n",
      "page:  9\n"
     ]
    }
   ],
   "source": [
    "focus = searchTrueCar('ford', 'focus', 10)"
   ]
  },
  {
   "cell_type": "code",
   "execution_count": 150,
   "id": "cc518d96",
   "metadata": {},
   "outputs": [
    {
     "name": "stdout",
     "output_type": "stream",
     "text": [
      "page:  1\n",
      "page:  2\n",
      "108,834 miles\n",
      "page:  3\n",
      "page:  4\n",
      "page:  5\n",
      "page:  6\n",
      "49,296 miles\n",
      "page:  7\n",
      "page:  8\n",
      "page:  9\n"
     ]
    }
   ],
   "source": [
    "mazda3 = searchTrueCar('mazda', 'mazda3', 10)"
   ]
  },
  {
   "cell_type": "code",
   "execution_count": 151,
   "id": "aed9aa99",
   "metadata": {},
   "outputs": [
    {
     "name": "stdout",
     "output_type": "stream",
     "text": [
      "page:  1\n",
      "page:  2\n",
      "page:  3\n",
      "page:  4\n",
      "page:  5\n",
      "page:  6\n",
      "page:  7\n",
      "page:  8\n",
      "page:  9\n"
     ]
    }
   ],
   "source": [
    "optima = searchTrueCar('kia', 'optima', 10)"
   ]
  },
  {
   "cell_type": "code",
   "execution_count": 152,
   "id": "5dbd7255",
   "metadata": {},
   "outputs": [
    {
     "name": "stdout",
     "output_type": "stream",
     "text": [
      "254\n",
      "273\n",
      "45\n",
      "72\n",
      "110\n",
      "157\n",
      "179\n"
     ]
    },
    {
     "data": {
      "text/html": [
       "<div>\n",
       "<style scoped>\n",
       "    .dataframe tbody tr th:only-of-type {\n",
       "        vertical-align: middle;\n",
       "    }\n",
       "\n",
       "    .dataframe tbody tr th {\n",
       "        vertical-align: top;\n",
       "    }\n",
       "\n",
       "    .dataframe thead th {\n",
       "        text-align: right;\n",
       "    }\n",
       "</style>\n",
       "<table border=\"1\" class=\"dataframe\">\n",
       "  <thead>\n",
       "    <tr style=\"text-align: right;\">\n",
       "      <th></th>\n",
       "      <th>id</th>\n",
       "      <th>year</th>\n",
       "      <th>make</th>\n",
       "      <th>model</th>\n",
       "      <th>trim</th>\n",
       "      <th>price</th>\n",
       "      <th>rating</th>\n",
       "      <th>diff</th>\n",
       "      <th>mileage</th>\n",
       "      <th>excolor</th>\n",
       "      <th>intcolor</th>\n",
       "      <th>accidents</th>\n",
       "      <th>owners</th>\n",
       "      <th>use</th>\n",
       "    </tr>\n",
       "  </thead>\n",
       "  <tbody>\n",
       "    <tr>\n",
       "      <th>0</th>\n",
       "      <td>5YFBURHE7JP813733</td>\n",
       "      <td>2018</td>\n",
       "      <td>Toyota</td>\n",
       "      <td>Corolla</td>\n",
       "      <td>SE Manual</td>\n",
       "      <td>19499.0</td>\n",
       "      <td>Great Price</td>\n",
       "      <td>$584 off avg. list price</td>\n",
       "      <td>56465.0</td>\n",
       "      <td>Silver</td>\n",
       "      <td>Black</td>\n",
       "      <td>No</td>\n",
       "      <td>1</td>\n",
       "      <td>Personal</td>\n",
       "    </tr>\n",
       "    <tr>\n",
       "      <th>1</th>\n",
       "      <td>JTDEPRAE0LJ063808</td>\n",
       "      <td>2020</td>\n",
       "      <td>Toyota</td>\n",
       "      <td>Corolla</td>\n",
       "      <td>LE CVT</td>\n",
       "      <td>22532.0</td>\n",
       "      <td>Great Price</td>\n",
       "      <td>$81 off avg. list price</td>\n",
       "      <td>28549.0</td>\n",
       "      <td>Black</td>\n",
       "      <td>Gray</td>\n",
       "      <td>No</td>\n",
       "      <td>1</td>\n",
       "      <td>Personal</td>\n",
       "    </tr>\n",
       "    <tr>\n",
       "      <th>2</th>\n",
       "      <td>1NXBU4EE6AZ307073</td>\n",
       "      <td>2010</td>\n",
       "      <td>Toyota</td>\n",
       "      <td>Corolla</td>\n",
       "      <td>LE Automatic</td>\n",
       "      <td>16990.0</td>\n",
       "      <td>Great Price</td>\n",
       "      <td>$28 off avg. list price</td>\n",
       "      <td>11843.0</td>\n",
       "      <td>Silver</td>\n",
       "      <td>Gray</td>\n",
       "      <td>No</td>\n",
       "      <td>1</td>\n",
       "      <td>Personal</td>\n",
       "    </tr>\n",
       "    <tr>\n",
       "      <th>3</th>\n",
       "      <td>5YFEPRAEXLP119569</td>\n",
       "      <td>2020</td>\n",
       "      <td>Toyota</td>\n",
       "      <td>Corolla</td>\n",
       "      <td>LE CVT</td>\n",
       "      <td>21097.0</td>\n",
       "      <td>Great Price</td>\n",
       "      <td>$527 off avg. list price</td>\n",
       "      <td>51363.0</td>\n",
       "      <td>Silver</td>\n",
       "      <td>Unknown</td>\n",
       "      <td>No</td>\n",
       "      <td>1</td>\n",
       "      <td>Personal</td>\n",
       "    </tr>\n",
       "    <tr>\n",
       "      <th>4</th>\n",
       "      <td>5YFEPRAE9LP061583</td>\n",
       "      <td>2020</td>\n",
       "      <td>Toyota</td>\n",
       "      <td>Corolla</td>\n",
       "      <td>LE CVT</td>\n",
       "      <td>16900.0</td>\n",
       "      <td>Excellent Price</td>\n",
       "      <td>$1,472 off avg. list price</td>\n",
       "      <td>59237.0</td>\n",
       "      <td>Blue</td>\n",
       "      <td>Black</td>\n",
       "      <td>1</td>\n",
       "      <td>1</td>\n",
       "      <td>Personal</td>\n",
       "    </tr>\n",
       "  </tbody>\n",
       "</table>\n",
       "</div>"
      ],
      "text/plain": [
       "                  id  year    make    model          trim    price  \\\n",
       "0  5YFBURHE7JP813733  2018  Toyota  Corolla     SE Manual  19499.0   \n",
       "1  JTDEPRAE0LJ063808  2020  Toyota  Corolla        LE CVT  22532.0   \n",
       "2  1NXBU4EE6AZ307073  2010  Toyota  Corolla  LE Automatic  16990.0   \n",
       "3  5YFEPRAEXLP119569  2020  Toyota  Corolla        LE CVT  21097.0   \n",
       "4  5YFEPRAE9LP061583  2020  Toyota  Corolla        LE CVT  16900.0   \n",
       "\n",
       "            rating                        diff  mileage excolor intcolor  \\\n",
       "0      Great Price    $584 off avg. list price  56465.0  Silver    Black   \n",
       "1      Great Price     $81 off avg. list price  28549.0   Black     Gray   \n",
       "2      Great Price     $28 off avg. list price  11843.0  Silver     Gray   \n",
       "3      Great Price    $527 off avg. list price  51363.0  Silver  Unknown   \n",
       "4  Excellent Price  $1,472 off avg. list price  59237.0    Blue    Black   \n",
       "\n",
       "  accidents owners       use  \n",
       "0        No      1  Personal  \n",
       "1        No      1  Personal  \n",
       "2        No      1  Personal  \n",
       "3        No      1  Personal  \n",
       "4         1      1  Personal  "
      ]
     },
     "execution_count": 152,
     "metadata": {},
     "output_type": "execute_result"
    }
   ],
   "source": [
    "list_ = [corolla, civic, rio, accent, focus, mazda3, optima]\n",
    "dfs = []\n",
    "for c in list_:\n",
    "    temp = pd.DataFrame.from_dict(c)\n",
    "    print(len(temp))\n",
    "    dfs.append(temp)\n",
    "\n",
    "df = pd.DataFrame()\n",
    "df = pd.concat(dfs)\n",
    "df.head()"
   ]
  },
  {
   "cell_type": "code",
   "execution_count": null,
   "id": "2f526622",
   "metadata": {},
   "outputs": [],
   "source": []
  }
 ],
 "metadata": {
  "kernelspec": {
   "display_name": "Python 3 (ipykernel)",
   "language": "python",
   "name": "python3"
  },
  "language_info": {
   "codemirror_mode": {
    "name": "ipython",
    "version": 3
   },
   "file_extension": ".py",
   "mimetype": "text/x-python",
   "name": "python",
   "nbconvert_exporter": "python",
   "pygments_lexer": "ipython3",
   "version": "3.9.7"
  }
 },
 "nbformat": 4,
 "nbformat_minor": 5
}
